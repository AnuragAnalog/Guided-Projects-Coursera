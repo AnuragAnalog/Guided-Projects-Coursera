{
 "cells": [
  {
   "cell_type": "code",
   "execution_count": null,
   "metadata": {},
   "outputs": [],
   "source": [
    "# Load the required libraries\n",
    "import pandas as pd\n",
    "import seaborn as sns\n",
    "import numpy as np\n",
    "import matplotlib.pyplot as plt\n",
    "from sklearn.cluster import KMeans\n",
    "from sklearn.preprocessing import StandardScaler\n",
    "from sklearn.decomposition import PCA\n",
    "import prince"
   ]
  },
  {
   "cell_type": "code",
   "execution_count": null,
   "metadata": {},
   "outputs": [],
   "source": [
    "# Task 1 - Load a dataset and extract basic information \n",
    "\n",
    "df = pd.read_csv('data.csv')\n",
    "\n",
    "print(df.shape, \"\\n\")\n",
    "print(df.info(), \"\\n\")\n",
    "print(df.describe(), \"\\n\")\n",
    "\n",
    "for col in df.columns:\n",
    "    print(col + ' ' + str(df[col].nunique()))"
   ]
  },
  {
   "cell_type": "code",
   "execution_count": null,
   "metadata": {},
   "outputs": [],
   "source": [
    "# Task 2 - Clean your data set\n",
    "# If you are starting from this task, you can run cells from all previous tasks in \n",
    "# the kernel by going to Kernel > Restart and Run All\n",
    "\n",
    "print(df.iloc[0, 6])\n",
    "df.iloc[0, 6] = df.iloc[0, 6] + ' '\n",
    "print(df.iloc[0, 6])"
   ]
  },
  {
   "cell_type": "code",
   "execution_count": null,
   "metadata": {},
   "outputs": [],
   "source": [
    "print(df.groupby(['Transmission Type']).size(), '\\n')\n",
    "df['Transmission Type'].value_counts()"
   ]
  },
  {
   "cell_type": "code",
   "execution_count": null,
   "metadata": {},
   "outputs": [],
   "source": [
    "df = df.apply(lambda x: x.str.strip() if x.dtype == 'object' else x)\n",
    "df['Transmission Type'].value_counts()"
   ]
  },
  {
   "cell_type": "code",
   "execution_count": null,
   "metadata": {},
   "outputs": [],
   "source": [
    "print(df.isna().mean())\n",
    "df.isna().mean().plot(kind='barh')\n",
    "df = df.loc[:, df.isna().mean() < 0.3]"
   ]
  },
  {
   "cell_type": "code",
   "execution_count": null,
   "metadata": {},
   "outputs": [],
   "source": [
    "df = df.replace('NA', np.nan)\n",
    "df = df.dropna()\n",
    "df.info()"
   ]
  },
  {
   "cell_type": "code",
   "execution_count": null,
   "metadata": {},
   "outputs": [],
   "source": [
    "print(df.duplicated().sum())\n",
    "df = df.drop_duplicates()\n",
    "df.info()"
   ]
  },
  {
   "cell_type": "code",
   "execution_count": null,
   "metadata": {},
   "outputs": [],
   "source": [
    "# Task 3 - Visualize patterns and outliers in your data set\n",
    "# If you are starting from this task, you can run cells from all previous tasks in \n",
    "# the kernel by going to Kernel > Restart and Run All\n",
    "\n",
    "fig, ax = plt.subplots(figsize=(12, 8))\n",
    "sns.scatterplot(x='Engine HP', y='city mpg', data=df)\n",
    "plt.xticks(rotation=45)"
   ]
  },
  {
   "cell_type": "code",
   "execution_count": null,
   "metadata": {},
   "outputs": [],
   "source": [
    "fig, ax = plt.subplots(figsize=(12, 8))\n",
    "sns.countplot(x='Transmission Type', hue='Vehicle Style', data=df, ax=ax)\n",
    "plt.xticks(rotation=45)"
   ]
  },
  {
   "cell_type": "code",
   "execution_count": null,
   "metadata": {},
   "outputs": [],
   "source": [
    "fig, ax = plt.subplots(figsize=(12, 8))\n",
    "sns.boxplot(x='Transmission Type', y='Engine HP', data=df)\n",
    "plt.xticks(rotation=45)"
   ]
  },
  {
   "cell_type": "code",
   "execution_count": null,
   "metadata": {},
   "outputs": [],
   "source": [
    "numeric_cols = df.select_dtypes(include=np.number).columns.tolist()\n",
    "sns.pairplot(df, vars=numeric_cols, hue=\"Number of Doors\", palette='Set3')"
   ]
  },
  {
   "cell_type": "code",
   "execution_count": null,
   "metadata": {},
   "outputs": [],
   "source": [
    "# Task 4 - Find and visualize correlations in your data set\n",
    "# If you are starting from this task, you can run cells from all previous tasks in \n",
    "# the kernel by going to Kernel > Restart and Run All\n",
    "\n",
    "df_num = df[numeric_cols]\n",
    "df_corr = df_num.corr()\n",
    "\n",
    "print(df_corr, \"\\n\")\n",
    "print(df_corr.mean(), \"\\n\")\n",
    "print(df_corr.abs().mean(), \"\\n\")"
   ]
  },
  {
   "cell_type": "code",
   "execution_count": null,
   "metadata": {},
   "outputs": [],
   "source": [
    "fig, ax = plt.subplots(figsize=(12, 8))\n",
    "sns.heatmap(df_corr, square=True, vmin=-1, vmax=1, center=0, cmap=sns.diverging_palette(20, 220, n=200))\n",
    "plt.xticks(rotation=45)"
   ]
  },
  {
   "cell_type": "code",
   "execution_count": null,
   "metadata": {},
   "outputs": [],
   "source": [
    "# Task 5 - Cluster your data set to identify similar groups\n",
    "# If you are starting from this task, you can run cells from all previous tasks in \n",
    "# the kernel by going to Kernel > Restart and Run All\n",
    "\n",
    "print(df_num.columns.tolist())\n",
    "\n",
    "X = StandardScaler().fit_transform(df_num)\n",
    "\n",
    "kmeans = KMeans(n_clusters=5, init='random')\n",
    "kmeans.fit(X)\n",
    "\n",
    "pred = kmeans.predict(X)\n",
    "np.unique(pred)"
   ]
  },
  {
   "cell_type": "code",
   "execution_count": null,
   "metadata": {},
   "outputs": [],
   "source": [
    "fig, ax = plt.subplots(figsize = (12, 8))\n",
    "plt.scatter(X[:, 1], X[:, 7], c=pred, cmap='viridis')\n",
    "\n",
    "centers = kmeans.cluster_centers_\n",
    "plt.scatter(centers[:, 1], centers[:, 7], c='grey', s=50)"
   ]
  },
  {
   "cell_type": "code",
   "execution_count": null,
   "metadata": {},
   "outputs": [],
   "source": [
    "# Task 6 - Visualize your data set with principal component analysis (PCA)\n",
    "# If you are starting from this task, you can run cells from all previous tasks in \n",
    "# the kernel by going to Kernel > Restart and Run All\n",
    "\n",
    "pca = PCA(n_components=0.95)\n",
    "\n",
    "pca.fit(X)\n",
    "pcad = pca.transform(X)\n",
    "\n",
    "print(pca.explained_variance_ratio_)"
   ]
  },
  {
   "cell_type": "code",
   "execution_count": null,
   "metadata": {},
   "outputs": [],
   "source": [
    "fig, ax = plt.subplots(figsize=(12, 8))\n",
    "plt.scatter(pcad[:, 0], pcad[:, 1])"
   ]
  },
  {
   "cell_type": "code",
   "execution_count": null,
   "metadata": {},
   "outputs": [],
   "source": [
    "pca2 = prince.PCA(n_components=6, n_iter=3, rescale_with_mean=True, rescale_with_std=True, copy=True, engine='auto')\n",
    "pca2 = pca2.fit(df_num)\n",
    "pca2.explained_inertia_"
   ]
  },
  {
   "cell_type": "code",
   "execution_count": null,
   "metadata": {},
   "outputs": [],
   "source": [
    "ax = pca2.plot_row_coordinates(df_num, ax=None, figsize=(12, 8), x_component=0, y_component=1, labels=None,\n",
    "                              color_labels=df['Transmission Type'],\n",
    "                              ellipse_outline=False, ellipse_fill=True, show_points=True)"
   ]
  }
 ],
 "metadata": {
  "kernelspec": {
   "display_name": "Python 3",
   "language": "python",
   "name": "python3"
  },
  "language_info": {
   "codemirror_mode": {
    "name": "ipython",
    "version": 3
   },
   "file_extension": ".py",
   "mimetype": "text/x-python",
   "name": "python",
   "nbconvert_exporter": "python",
   "pygments_lexer": "ipython3",
   "version": "3.6.9"
  }
 },
 "nbformat": 4,
 "nbformat_minor": 4
}
