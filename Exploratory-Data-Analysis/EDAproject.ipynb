{
 "cells": [
  {
   "cell_type": "markdown",
   "metadata": {},
   "source": [
    "# Welcome to this Rhyme project \"Exploratory Data Analysis\" on Coursera Labs.\n",
    "\n",
    "In this project, you will learn practically how to create and apply graphical techniques in exploratory data analysis (EDA).\n",
    "\n",
    "We will go through 5 tasks to implement our project:\n",
    "\n",
    "Task 1: Definining Exploratory Data Analysis with an overview of the whole project (This first recorded non-technical task isn't included in the Jupyter notebook).\n",
    "\n",
    "Task 2: Importing libraries and Exploring the Dataset.\n",
    "\n",
    "Task 3: Checking missing values and Outliers.\n",
    "\n",
    "Task 4: Creating visual methods to analyze the data.\n",
    "\n",
    "Task 5: Analyzing trends, patterns, and relationships in the Data."
   ]
  },
  {
   "cell_type": "markdown",
   "metadata": {},
   "source": [
    "# Task 2: Importing libraries and Exploring the Dataset"
   ]
  },
  {
   "cell_type": "code",
   "execution_count": null,
   "metadata": {},
   "outputs": [],
   "source": [
    "import numpy as np # linear algebra\n",
    "import pandas as pd # data processing, CSV file I/O (e.g. pd.read_csv)\n",
    "from matplotlib import pyplot as plt\n",
    "import seaborn as sns\n",
    "import statsmodels.api as sm\n",
    "import scipy.stats as stats\n",
    "from sklearn.preprocessing import LabelEncoder\n",
    "import copy\n",
    "sns.set() #setting the default seaborn style for our plots"
   ]
  },
  {
   "cell_type": "code",
   "execution_count": null,
   "metadata": {},
   "outputs": [],
   "source": [
    "# Read the Dataset\n",
    "insurance_df = pd.read_csv(\"insurance-data.csv\")"
   ]
  },
  {
   "cell_type": "code",
   "execution_count": null,
   "metadata": {},
   "outputs": [],
   "source": [
    "#Display the first 10 examples in the dataset\n",
    "\n",
    "insurance_df.head() ### Fill out the Number of examples"
   ]
  },
  {
   "cell_type": "code",
   "execution_count": null,
   "metadata": {},
   "outputs": [],
   "source": [
    "#Info about the data shape of data, type of individual columns\n",
    "\n",
    "insurance_df.info()"
   ]
  },
  {
   "cell_type": "markdown",
   "metadata": {},
   "source": [
    "Expected output:\n",
    "\n",
    "    The data should consist of 1338 instances with 7 attributes. 2 integer type, 2 float type and 3 object type (Strings in the column)"
   ]
  },
  {
   "cell_type": "markdown",
   "metadata": {},
   "source": [
    "# Task 3: Checking missing values and Outliers"
   ]
  },
  {
   "cell_type": "code",
   "execution_count": null,
   "metadata": {},
   "outputs": [],
   "source": [
    "# Check for the null values \n",
    "\n",
    "### Your Code Here"
   ]
  },
  {
   "cell_type": "markdown",
   "metadata": {},
   "source": [
    "Expected Output:\n",
    "    \n",
    "    There shouldn't be any missing values"
   ]
  },
  {
   "cell_type": "code",
   "execution_count": null,
   "metadata": {},
   "outputs": [],
   "source": [
    "# Checking for the outliers\n",
    "plt.figure(figsize= (20,15))\n",
    "plt.subplot(3,1,1)\n",
    "sns.boxplot(x= insurance_df.bmi, color='red')\n",
    "\n",
    "### Write the code to show age and charges graphs, same as we did for bmi (bmi is Body Mass Index)\n",
    "\n",
    "\n",
    "plt.show()"
   ]
  },
  {
   "cell_type": "markdown",
   "metadata": {},
   "source": [
    "Output should include this Analysis:\n",
    "\n",
    "- bmi has a few extreme values.\n",
    "\n",
    "- charges as it is highly skewed, there are quiet a lot of extreme values."
   ]
  },
  {
   "cell_type": "code",
   "execution_count": null,
   "metadata": {},
   "outputs": [],
   "source": [
    "# a brief summary for the dataset\n",
    "\n",
    "insurance_df.describe().T"
   ]
  },
  {
   "cell_type": "markdown",
   "metadata": {},
   "source": [
    "Output should include this Analysis:\n",
    "\n",
    "- All the statistics seem reasonable.\n",
    "\n",
    "- Age column: data looks representative of the true age distribution of the adult population with (39) mean.\n",
    "\n",
    "- Children Column: Few people have more than 2 children (75% of the people have 2 or less children).\n",
    "\n",
    "- The claimed amount is higly skewed as most people would require basic medi-care and only few suffer from diseases which cost more to get rid of."
   ]
  },
  {
   "cell_type": "markdown",
   "metadata": {},
   "source": [
    "# Task 4: Creating visual methods to analyze the data."
   ]
  },
  {
   "cell_type": "code",
   "execution_count": null,
   "metadata": {},
   "outputs": [],
   "source": [
    "# Plots to see the distribution of the continuous features individually\n",
    "\n",
    "plt.figure(figsize= (20,15))\n",
    "plt.subplot(3,3,1)\n",
    "plt.hist(insurance_df.bmi, color='lightblue', edgecolor = 'black', alpha = 0.7)\n",
    "plt.xlabel('bmi')\n",
    "\n",
    "### Write the code to show age and charges graphs, same as we did for bmi\n",
    "\n",
    "plt.show()"
   ]
  },
  {
   "cell_type": "markdown",
   "metadata": {},
   "source": [
    "Output should include this Analysis:\n",
    "\n",
    "- bmi looks normally distributed.\n",
    "\n",
    "- Age looks uniformly distributed.\n",
    "\n",
    "- As seen in the previous step, charges are highly skewed."
   ]
  },
  {
   "cell_type": "code",
   "execution_count": null,
   "metadata": {},
   "outputs": [],
   "source": [
    "# showing the skewness of variables\n",
    "Skewness =  ### Your Code Here\n",
    "\n",
    "# We Will Measure the skeweness of the required columns\n",
    "Skewness"
   ]
  },
  {
   "cell_type": "markdown",
   "metadata": {},
   "source": [
    "Output should include this Analysis:\n",
    "\n",
    "- Skewness of bmi is very low as seen in the previous step\n",
    "\n",
    "- age is uniformly distributed and thus not skewed\n",
    "\n",
    "- charges are highly skewed"
   ]
  },
  {
   "cell_type": "code",
   "execution_count": null,
   "metadata": {},
   "outputs": [],
   "source": [
    "# visualizing data to make analysis\n",
    "\n",
    "plt.figure(figsize=(20,25))\n",
    "\n",
    "\n",
    "x = insurance_df.smoker.value_counts().index    #Values for x-axis\n",
    "y = [insurance_df['smoker'].value_counts()[i] for i in x]   # Count of each class on y-axis\n",
    "\n",
    "plt.subplot(4,2,1)\n",
    "plt.bar(x,y, align='center',color = 'red',edgecolor = 'black',alpha = 0.7)  # plot a bar chart\n",
    "plt.xlabel('Smoker?')\n",
    "plt.ylabel('Count ')\n",
    "plt.title('Smoker distribution')\n",
    "\n",
    "x1 = insurance_df.sex.value_counts().index    #Values for x-axis\n",
    "y1 = [insurance_df['sex'].value_counts()[j] for j in x1]   # Count of each class on y-axis\n",
    "\n",
    "### Your code here, write the code for Gender plot\n",
    "\n",
    "x2 = insurance_df.region.value_counts().index    #Values for x-axis\n",
    "y2 = [insurance_df['region'].value_counts()[k] for k in x2]   # Count of each class on y-axis\n",
    "\n",
    "### Your code here, write the code for Region plot\n",
    "\n",
    "\n",
    "x3 = insurance_df.children.value_counts().index    #Values for x-axis\n",
    "y3 = [insurance_df['children'].value_counts()[l] for l in x3]   # Count of each class on y-axis\n",
    "\n",
    "### Your code here, write the code for Children plot\n",
    "\n",
    "\n",
    "plt.show()"
   ]
  },
  {
   "cell_type": "markdown",
   "metadata": {},
   "source": [
    "Output should include this Analysis:\n",
    "\n",
    "- There are lot more non-smokers than smokers.\n",
    "\n",
    "- Instances are distributed evenly accross all regions.\n",
    "\n",
    "- Gender is also distributed evenly.\n",
    "\n",
    "- Most instances have less than 3 children and very few have 4 or 5 children."
   ]
  },
  {
   "cell_type": "code",
   "execution_count": null,
   "metadata": {},
   "outputs": [],
   "source": [
    "# Label encoding the variables before doing a pairplot because pairplot ignores strings\n",
    "\n",
    "insurance_df_encoded = ### Your Code Here\n",
    "insurance_df_encoded.loc[:,['sex', 'smoker', 'region']] = insurance_df_encoded.loc[:,['sex', 'smoker', 'region']].apply(LabelEncoder().fit_transform) \n",
    "\n",
    "sns.pairplot(insurance_df_encoded)  # pairplot\n",
    "plt.show()"
   ]
  },
  {
   "cell_type": "markdown",
   "metadata": {},
   "source": [
    "Output should include this Analysis:\n",
    "\n",
    "- There is an obvious correlation between 'charges' and 'smoker'\n",
    "\n",
    "- Looks like smokers claimed more money than non-smokers\n",
    "\n",
    "- There's an interesting pattern between 'age' and 'charges'. Notice that older people are charged more than the younger ones"
   ]
  },
  {
   "cell_type": "markdown",
   "metadata": {},
   "source": [
    "# Task 5: Analyzing trends, patterns, and relationships in the Data."
   ]
  },
  {
   "cell_type": "code",
   "execution_count": null,
   "metadata": {},
   "outputs": [],
   "source": [
    "# Do charges of people who smoke differ significantly from the people who don't?\n",
    "print(\"Do charges of people who smoke differ significantly from the people who don't?\")\n",
    "insurance_df.smoker.value_counts()"
   ]
  },
  {
   "cell_type": "code",
   "execution_count": null,
   "metadata": {},
   "outputs": [],
   "source": [
    "# Scatter plot to look for visual evidence of dependency between attributes smoker and charges accross different ages\n",
    "plt.figure(figsize=(8,6))\n",
    "sns.scatterplot(insurance_df.age, insurance_df.charges,hue=insurance_df.smoker,palette= ['red','green'] ,alpha=0.6)\n",
    "plt.title(\"Difference between charges of smokers and charges of non-smokers is apparent\")\n",
    "plt.show()"
   ]
  },
  {
   "cell_type": "code",
   "execution_count": null,
   "metadata": {},
   "outputs": [],
   "source": [
    "plt.figure(figsize=(8,6))\n",
    "sns.scatterplot(insurance_df.age, insurance_df.charges,hue=insurance_df.sex,palette= ['pink','lightblue'] )"
   ]
  },
  {
   "cell_type": "markdown",
   "metadata": {},
   "source": [
    "There is no apparent relation between gender and charges"
   ]
  },
  {
   "cell_type": "code",
   "execution_count": null,
   "metadata": {},
   "outputs": [],
   "source": [
    "# T-test to check dependency of smoking on charges\n",
    "Ho = \"Charges of smoker and non-smoker are same\"   # Stating the Null Hypothesis\n",
    "Ha = \"Charges of smoker and non-smoker are not the same\"   # Stating the Alternate Hypothesis\n",
    "\n",
    "x = ### Your Code Here  # Selecting charges corresponding to smokers as an array\n",
    "y = ### Your Code Here # Selecting charges corresponding to non-smokers as an array\n",
    "\n",
    "t, p_value  = stats.ttest_ind(x,y, axis = 0)  # Performing an Independent t-test\n",
    "\n",
    "if p_value < 0.05:  # Setting our significance level at 5%\n",
    "    print(f'{Ha} as the p_value ({p_value}) < 0.05')\n",
    "else:\n",
    "    print(f'{Ho} as the p_value ({p_value}) > 0.05')"
   ]
  },
  {
   "cell_type": "markdown",
   "metadata": {},
   "source": [
    "Thus, Smokers seem to claim significantly more money than non-smokers"
   ]
  },
  {
   "cell_type": "code",
   "execution_count": null,
   "metadata": {},
   "outputs": [],
   "source": [
    "#Does bmi of males differ significantly from that of females?\n",
    "print (\"Does bmi of males differ significantly from that of females?\")\n",
    "insurance_df.sex.value_counts()   #Checking the distribution of males and females"
   ]
  },
  {
   "cell_type": "code",
   "execution_count": null,
   "metadata": {},
   "outputs": [],
   "source": [
    "# T-test to check dependency of bmi on gender\n",
    "Ho = \"Gender has no effect on bmi\"   # Stating the Null Hypothesis\n",
    "Ha = \"Gender has an effect on bmi\"   # Stating the Alternate Hypothesis\n",
    "\n",
    "x = ### Your Code Here  # Selecting bmi values corresponding to males as an array\n",
    "y = ### Your Code Here # Selecting bmi values corresponding to females as an array\n",
    "\n",
    "t, p_value  = stats.ttest_ind(x,y, axis = 0)  #Performing an Independent t-test\n",
    "\n",
    "if p_value < 0.05:  # Setting our significance level at 5%\n",
    "    print(f'{Ha} as the p_value ({p_value.round()}) < 0.05')\n",
    "else:\n",
    "    print(f'{Ho} as the p_value ({p_value.round(3)}) > 0.05')"
   ]
  },
  {
   "cell_type": "markdown",
   "metadata": {},
   "source": [
    "bmi of both the genders are identical\n"
   ]
  },
  {
   "cell_type": "code",
   "execution_count": null,
   "metadata": {},
   "outputs": [],
   "source": [
    "#Is the proportion of smokers significantly different in different genders?\n",
    "\n",
    "\n",
    "# Chi_square test to check if smoking habits are different for different genders\n",
    "Ho = \"Gender has no effect on smoking habits\"   # Stating the Null Hypothesis\n",
    "Ha = \"Gender has an effect on smoking habits\"   # Stating the Alternate Hypothesis\n",
    "\n",
    "crosstab = ### Your Code Here  # Contingency table of sex and smoker attributes\n",
    "\n",
    "chi, p_value, dof, expected =  stats.chi2_contingency(crosstab)\n",
    "\n",
    "if p_value < 0.05:  # Setting our significance level at 5%\n",
    "    print(f'{Ha} as the p_value ({p_value.round(3)}) < 0.05')\n",
    "else:\n",
    "    print(f'{Ho} as the p_value ({p_value.round(3)}) > 0.05')\n",
    "crosstab"
   ]
  },
  {
   "cell_type": "markdown",
   "metadata": {},
   "source": [
    "Proportion of smokers in males is significantly different from that of the females\n",
    "\n"
   ]
  },
  {
   "cell_type": "code",
   "execution_count": null,
   "metadata": {},
   "outputs": [],
   "source": [
    "# Chi_square test to check if smoking habits are different for people of different regions\n",
    "Ho = \"Region has no effect on smoking habits\"   # Stating the Null Hypothesis\n",
    "Ha = \"Region has an effect on smoking habits\"   # Stating the Alternate Hypothesis\n",
    "\n",
    "crosstab = ### Your Code Here  # Contingency table of sex and smoker attributes\n",
    "\n",
    "chi, p_value, dof, expected =  stats.chi2_contingency(crosstab)\n",
    "\n",
    "if p_value < 0.05:  # Setting our significance level at 5%\n",
    "    print(f'{Ha} as the p_value ({p_value.round(3)}) < 0.05')\n",
    "else:\n",
    "    print(f'{Ho} as the p_value ({p_value.round(3)}) > 0.05')\n",
    "crosstab"
   ]
  },
  {
   "cell_type": "markdown",
   "metadata": {},
   "source": [
    "* Smoking habbits of people of different regions are similar\n"
   ]
  },
  {
   "cell_type": "code",
   "execution_count": null,
   "metadata": {},
   "outputs": [],
   "source": [
    "# Is the distribution of bmi across women with no children, one child and two children, the same ?\n",
    "# Test to see if the distributions of bmi values for females having different number of children, are significantly different\n",
    "\n",
    "Ho = \"No. of children has no effect on bmi\"   # Stating the Null Hypothesis\n",
    "Ha = \"No. of children has an effect on bmi\"   # Stating the Alternate Hypothesis\n",
    "\n",
    "\n",
    "female_df = ### Your Code Here\n",
    "\n",
    "zero = ### Your Code Here\n",
    "one = ### Your Code Here\n",
    "two = ### Your Code Here\n",
    "\n",
    "\n",
    "f_stat, p_value = stats.f_oneway(zero,one,two)\n",
    "\n",
    "\n",
    "if p_value < 0.05:  # Setting our significance level at 5%\n",
    "    print(f'{Ha} as the p_value ({p_value.round(3)}) < 0.05')\n",
    "else:\n",
    "    print(f'{Ho} as the p_value ({p_value.round(3)}) > 0.05')"
   ]
  },
  {
   "cell_type": "markdown",
   "metadata": {},
   "source": [
    "# Congratulations! You are now able to Perform Exploratory Data Analysis to your pwn Data Science Projects!"
   ]
  },
  {
   "cell_type": "code",
   "execution_count": null,
   "metadata": {},
   "outputs": [],
   "source": []
  }
 ],
 "metadata": {
  "kernelspec": {
   "display_name": "Python 3",
   "language": "python",
   "name": "python3"
  },
  "language_info": {
   "codemirror_mode": {
    "name": "ipython",
    "version": 3
   },
   "file_extension": ".py",
   "mimetype": "text/x-python",
   "name": "python",
   "nbconvert_exporter": "python",
   "pygments_lexer": "ipython3",
   "version": "3.7.6"
  }
 },
 "nbformat": 4,
 "nbformat_minor": 2
}
